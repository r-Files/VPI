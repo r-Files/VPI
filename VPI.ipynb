{
 "cells": [
  {
   "cell_type": "code",
   "execution_count": null,
   "metadata": {},
   "outputs": [],
   "source": [
    "library(data.table)\n",
    "library(rvest)\n",
    "library(magrittr)\n",
    "library(stringr)\n",
    "library(ggplot2)"
   ]
  },
  {
   "cell_type": "code",
   "execution_count": null,
   "metadata": {},
   "outputs": [],
   "source": [
    "# define the URL we want to scrap\n",
    "url <- \"https://www.statistik.at/web_de/statistiken/wirtschaft/preise/verbraucherpreisindex_vpi_hvpi/zeitreihen_und_verkettungen/025206.html\""
   ]
  },
  {
   "cell_type": "code",
   "execution_count": null,
   "metadata": {},
   "outputs": [],
   "source": [
    "# read the whole webpage-content to a variable\n",
    "webContent <- read_html(url)"
   ]
  },
  {
   "cell_type": "code",
   "execution_count": null,
   "metadata": {},
   "outputs": [],
   "source": [
    "# we know that commas are used for the decimal mark.\n",
    "# Even if we use the option dec = \".\" we get as data\n",
    "# type character because the missing values are indicated\n",
    "# with a dot \".\"\n",
    "vpiTable <- html_table(webContent)[[1]] %>% setDT()\n",
    "vpiTable"
   ]
  },
  {
   "cell_type": "code",
   "execution_count": null,
   "metadata": {},
   "outputs": [],
   "source": [
    "# the last row doesn't contain any relevant information so we delete it \n",
    "vpiTable <- vpiTable[-.N, ]\n",
    "vpiTable"
   ]
  },
  {
   "cell_type": "code",
   "execution_count": null,
   "metadata": {},
   "outputs": [],
   "source": [
    "# Replace all dots with NA's and cast the remaining values to numeric\n",
    "for(j in 2:ncol(vpiTable)){\n",
    "  # change all dots do NA's\n",
    "  set(vpiTable, i = which(vpiTable[[j]] == \".\"), j = j, value = NA)\n",
    "  # convert text to numbers\n",
    "  set(vpiTable, j = j, value = as.numeric(sub(\",\", \".\", vpiTable[[j]], fixed = TRUE)))\n",
    "}\n",
    "vpiTable"
   ]
  },
  {
   "cell_type": "code",
   "execution_count": null,
   "metadata": {},
   "outputs": [],
   "source": [
    "# Find all average values\n",
    "vpiRaw <- vpiTable[str_detect(vpiTable$Monat, \"^[^A-Z]\"), ]\n",
    "vpiRaw"
   ]
  },
  {
   "cell_type": "code",
   "execution_count": null,
   "metadata": {},
   "outputs": [],
   "source": [
    "# define column \"Monat\" as factor otherwise plotting would be in alphabetical order\n",
    "vpiRaw$Monat <- factor(vpiRaw$Monat, levels=unique(vpiRaw$Monat))\n",
    "\n",
    "# plot column \"Monat\" against column \"KHPI\" (Kleinhandelspreisindex)\n",
    "ggplot(data = vpiRaw, aes(x = Monat , y = KHPI, group = 1)) +\n",
    "  geom_line()+\n",
    "  geom_point()"
   ]
  }
 ],
 "metadata": {
  "kernelspec": {
   "display_name": "R",
   "language": "R",
   "name": "ir"
  },
  "language_info": {
   "codemirror_mode": "r",
   "file_extension": ".r",
   "mimetype": "text/x-r-source",
   "name": "R",
   "pygments_lexer": "r",
   "version": "3.6.0"
  }
 },
 "nbformat": 4,
 "nbformat_minor": 2
}
